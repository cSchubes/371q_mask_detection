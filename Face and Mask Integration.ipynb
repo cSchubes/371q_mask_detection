{
 "cells": [
  {
   "cell_type": "markdown",
   "metadata": {},
   "source": [
    "# Face and Mask"
   ]
  },
  {
   "cell_type": "code",
   "execution_count": 1,
   "metadata": {},
   "outputs": [],
   "source": [
    "import cv2\n",
    "import matplotlib.pyplot as plt\n",
    "import helpers\n",
    "import numpy as np\n",
    "import tensorflow as tf\n",
    "from retinaface import RetinaFace\n",
    "from PIL import Image"
   ]
  },
  {
   "cell_type": "markdown",
   "metadata": {},
   "source": [
    "## Facial Recognition\n",
    "We use retinaface to detect facial features"
   ]
  },
  {
   "cell_type": "code",
   "execution_count": 2,
   "metadata": {},
   "outputs": [
    {
     "name": "stdout",
     "output_type": "stream",
     "text": [
      "model[normal quality] init ..\n",
      "model success !\n"
     ]
    }
   ],
   "source": [
    "# Initialize facial detection\n",
    "detector = RetinaFace(quality = \"normal\")"
   ]
  },
  {
   "cell_type": "code",
   "execution_count": 3,
   "metadata": {},
   "outputs": [],
   "source": [
    "# The actual detection of faces\n",
    "img = detector.read(\"test.jpg\")\n",
    "faces = detector.predict(img)"
   ]
  },
  {
   "cell_type": "code",
   "execution_count": 4,
   "metadata": {},
   "outputs": [],
   "source": [
    "# Cropping the faces and saving them\n",
    "img = Image.open(\"test.jpg\")\n",
    "cropImages = []\n",
    "for face in faces:\n",
    "    cropImages.append(img.crop((face['x1'], face['y1'], face['x2'], face['y2'\n",
    "    ])))"
   ]
  },
  {
   "cell_type": "code",
   "execution_count": 6,
   "metadata": {},
   "outputs": [],
   "source": [
    "# Display the faces and original image\n",
    "#%matplotlib inline\n",
    "#plt.imshow(np.asarray(img))\n",
    "#plt.figure()\n",
    "#for i in cropImages:\n",
    "#    plt.figure()\n",
    "#    plt.imshow(i)"
   ]
  },
  {
   "cell_type": "markdown",
   "metadata": {},
   "source": [
    "## Mask Detection\n",
    "we will now pass cropImages through the mask classifier"
   ]
  },
  {
   "cell_type": "code",
   "execution_count": null,
   "metadata": {},
   "outputs": [],
   "source": []
  }
 ],
 "metadata": {
  "kernelspec": {
   "display_name": "Python 3",
   "language": "python",
   "name": "python3"
  },
  "language_info": {
   "codemirror_mode": {
    "name": "ipython",
    "version": 3
   },
   "file_extension": ".py",
   "mimetype": "text/x-python",
   "name": "python",
   "nbconvert_exporter": "python",
   "pygments_lexer": "ipython3",
   "version": "3.7.0"
  }
 },
 "nbformat": 4,
 "nbformat_minor": 4
}
