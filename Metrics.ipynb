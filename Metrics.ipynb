{
 "cells": [
  {
   "cell_type": "code",
   "execution_count": 1,
   "metadata": {},
   "outputs": [],
   "source": [
    "import cv2\n",
    "import pickle\n",
    "import helpers\n",
    "import numpy as np\n",
    "import matplotlib.pyplot as plt\n",
    "from od_metrics.BoundingBox import BoundingBox\n",
    "from od_metrics.BoundingBoxes import BoundingBoxes\n",
    "from od_metrics.utils import BBFormat, BBType\n",
    "from od_metrics.Evaluator import Evaluator\n",
    "\n",
    "use_pickle = True\n",
    "pickle_path = '../kaggle_dataset_863/kaggle_863_alt.pkl'"
   ]
  },
  {
   "cell_type": "markdown",
   "metadata": {},
   "source": [
    "# Load Dataset"
   ]
  },
  {
   "cell_type": "code",
   "execution_count": 2,
   "metadata": {},
   "outputs": [
    {
     "name": "stdout",
     "output_type": "stream",
     "text": [
      "853\n"
     ]
    }
   ],
   "source": [
    "# load images and associated faces\n",
    "# this takes a second since we load with cv2\n",
    "if not use_pickle:\n",
    "    imgs_with_labels = helpers.load_kaggle_863('../kaggle_dataset_863')\n",
    "    imgs_with_labels = helpers.convert_kaggle_863_for_metrics(imgs_with_labels)\n",
    "    with open(pickle_path, 'wb') as f:\n",
    "        pickle.dump(imgs_with_labels, f)\n",
    "else:\n",
    "    with open(pickle_path, 'rb') as f:\n",
    "        imgs_with_labels = pickle.load(f)\n",
    "\n",
    "print(len(imgs_with_labels['raw_data']))"
   ]
  },
  {
   "cell_type": "code",
   "execution_count": 71,
   "metadata": {},
   "outputs": [],
   "source": [
    "best_precs = []\n",
    "best_recs = []\n",
    "best_f = []"
   ]
  },
  {
   "cell_type": "markdown",
   "metadata": {},
   "source": [
    "# Viola-Jones Analysis"
   ]
  },
  {
   "cell_type": "code",
   "execution_count": 4,
   "metadata": {},
   "outputs": [],
   "source": [
    "haar_detection_results = {}\n",
    "haar_cascade_names = [\n",
    "    'frontalface_alt',\n",
    "    'frontalface_alt2',\n",
    "    'frontalface_alt_tree',\n",
    "    'frontalface_default'\n",
    "]\n",
    "haar_cascade_paths = [cv2.data.haarcascades + 'haarcascade_' + n + '.xml'\n",
    "                      for n in haar_cascade_names]\n",
    "haar_results = {}\n",
    "# clone ground bbox data to be populated by each haar detector\n",
    "for name in haar_cascade_names:\n",
    "    haar_detection_results[name] = imgs_with_labels['bboxes'].clone()"
   ]
  },
  {
   "cell_type": "code",
   "execution_count": 5,
   "metadata": {},
   "outputs": [],
   "source": [
    "with open('haar_results.pkl', 'rb') as f:\n",
    "    haar_detection_results = pickle.load(f)"
   ]
  },
  {
   "cell_type": "code",
   "execution_count": 6,
   "metadata": {},
   "outputs": [],
   "source": [
    "evaluator = Evaluator()\n",
    "metric_dict = {}\n",
    "for t, result in haar_detection_results.items():\n",
    "    metrics = evaluator.GetPascalVOCMetrics(haar_detection_results[t],\n",
    "                                            IOUThreshold=0.3)\n",
    "    total_pos = metrics[0]['total positives']\n",
    "    tp = metrics[0]['total TP']\n",
    "    fp = metrics[0]['total FP']\n",
    "    metric_dict[t] = {\n",
    "        'total positives': total_pos,\n",
    "        'total TP': tp,\n",
    "        'total FP': fp,\n",
    "        'prec': helpers.compute_precision(tp, fp),\n",
    "        'recall': helpers.compute_recall(tp, total_pos)\n",
    "    }"
   ]
  },
  {
   "cell_type": "code",
   "execution_count": 7,
   "metadata": {},
   "outputs": [
    {
     "data": {
      "text/plain": [
       "{'frontalface_alt': {'total positives': 4072,\n",
       "  'total TP': 772.0,\n",
       "  'total FP': 90.0,\n",
       "  'prec': 0.8955916473317865,\n",
       "  'recall': 0.18958742632612965},\n",
       " 'frontalface_alt2': {'total positives': 4072,\n",
       "  'total TP': 851.0,\n",
       "  'total FP': 148.0,\n",
       "  'prec': 0.8518518518518519,\n",
       "  'recall': 0.20898821218074656},\n",
       " 'frontalface_alt_tree': {'total positives': 4072,\n",
       "  'total TP': 117.0,\n",
       "  'total FP': 1.0,\n",
       "  'prec': 0.9915254237288136,\n",
       "  'recall': 0.028732809430255402},\n",
       " 'frontalface_default': {'total positives': 4072,\n",
       "  'total TP': 750.0,\n",
       "  'total FP': 417.0,\n",
       "  'prec': 0.6426735218508998,\n",
       "  'recall': 0.18418467583497053}}"
      ]
     },
     "execution_count": 7,
     "metadata": {},
     "output_type": "execute_result"
    }
   ],
   "source": [
    "metric_dict"
   ]
  },
  {
   "cell_type": "code",
   "execution_count": 72,
   "metadata": {},
   "outputs": [
    {
     "data": {
      "image/png": "[encoded data removed]",
      "text/plain": [
       "<Figure size 432x288 with 1 Axes>"
      ]
     },
     "metadata": {
      "needs_background": "light"
     },
     "output_type": "display_data"
    }
   ],
   "source": [
    "# plot\n",
    "result_list = [metric_dict[n] for n in haar_cascade_names]\n",
    "precisions = [res['prec'] for res in result_list]\n",
    "recalls = [res['recall'] for res in result_list]\n",
    "ind = np.arange(len(result_list))\n",
    "short_names = [n[12:] for n in haar_cascade_names]\n",
    "f_scores = []\n",
    "for i in range(len(precisions)):\n",
    "    p = precisions[i]\n",
    "    r = recalls[i]\n",
    "    f_scores.append(2*(p*r)/(p+r))\n",
    "\n",
    "plt.bar(ind, precisions, 0.25, label='Precision')\n",
    "plt.bar(ind+0.25, recalls, 0.25, label='Recall')\n",
    "plt.bar(ind+0.5, f_scores, 0.25, label='F1')\n",
    "\n",
    "plt.ylabel('Score')\n",
    "plt.title('Precision, Recall, and F1 for Viola-Jones Methods')\n",
    "plt.xticks(ind + .25/2, tuple(short_names))\n",
    "plt.legend(loc='best')\n",
    "plt.grid()\n",
    "plt.savefig('./figures/viola_jones.png', dpi=300, facecolor=plt.gcf().get_facecolor(), transparent=True)\n",
    "plt.show()"
   ]
  },
  {
   "cell_type": "code",
   "execution_count": 73,
   "metadata": {},
   "outputs": [],
   "source": [
    "best_precs.append(precisions[1])\n",
    "best_recs.append(recalls[1])\n",
    "best_f.append(f_scores[1])"
   ]
  },
  {
   "cell_type": "markdown",
   "metadata": {},
   "source": [
    "# MTCNN Analysis"
   ]
  },
  {
   "cell_type": "code",
   "execution_count": 18,
   "metadata": {},
   "outputs": [],
   "source": [
    "dl_detection_results = {}"
   ]
  },
  {
   "cell_type": "code",
   "execution_count": 19,
   "metadata": {},
   "outputs": [],
   "source": [
    "with open('mtcnn_results.pkl', 'rb') as f:\n",
    "    dl_detection_results['mtcnn'] = pickle.load(f)"
   ]
  },
  {
   "cell_type": "code",
   "execution_count": 20,
   "metadata": {},
   "outputs": [],
   "source": [
    "evaluator = Evaluator()\n",
    "mtcnn_metrics = evaluator.GetPascalVOCMetrics(dl_detection_results['mtcnn'],\n",
    "                                              IOUThreshold=0.3)\n",
    "total_pos = mtcnn_metrics[0]['total positives']\n",
    "tp = mtcnn_metrics[0]['total TP']\n",
    "fp = mtcnn_metrics[0]['total FP']\n",
    "metric_dict_mtcnn = {\n",
    "    'total positives': total_pos,\n",
    "    'total TP': tp,\n",
    "    'total FP': fp,\n",
    "    'prec': helpers.compute_precision(tp, fp),\n",
    "    'recall': helpers.compute_recall(tp, total_pos)\n",
    "}"
   ]
  },
  {
   "cell_type": "code",
   "execution_count": 21,
   "metadata": {},
   "outputs": [
    {
     "data": {
      "text/plain": [
       "{'total positives': 4072,\n",
       " 'total TP': 2466.0,\n",
       " 'total FP': 155.0,\n",
       " 'prec': 0.9408622663105685,\n",
       " 'recall': 0.6055992141453831}"
      ]
     },
     "execution_count": 21,
     "metadata": {},
     "output_type": "execute_result"
    }
   ],
   "source": [
    "metric_dict_mtcnn"
   ]
  },
  {
   "cell_type": "code",
   "execution_count": 22,
   "metadata": {},
   "outputs": [],
   "source": [
    "with open('mtcnn_fdet_results.pkl', 'rb') as f:\n",
    "    dl_detection_results['fdet_mtcnn'] = pickle.load(f)"
   ]
  },
  {
   "cell_type": "code",
   "execution_count": 23,
   "metadata": {},
   "outputs": [],
   "source": [
    "evaluator = Evaluator()\n",
    "mtcnn_fdet_metrics = evaluator.GetPascalVOCMetrics(dl_detection_results['fdet_mtcnn'],\n",
    "                                            IOUThreshold=0.3)\n",
    "total_pos = mtcnn_fdet_metrics[0]['total positives']\n",
    "tp = mtcnn_fdet_metrics[0]['total TP']\n",
    "fp = mtcnn_fdet_metrics[0]['total FP']\n",
    "metric_dict_mtcnn_fdet = {\n",
    "    'total positives': total_pos,\n",
    "    'total TP': tp,\n",
    "    'total FP': fp,\n",
    "    'prec': helpers.compute_precision(tp, fp),\n",
    "    'recall': helpers.compute_recall(tp, total_pos)\n",
    "}"
   ]
  },
  {
   "cell_type": "code",
   "execution_count": 24,
   "metadata": {},
   "outputs": [
    {
     "data": {
      "text/plain": [
       "{'total positives': 4072,\n",
       " 'total TP': 2563.0,\n",
       " 'total FP': 234.0,\n",
       " 'prec': 0.9163389345727565,\n",
       " 'recall': 0.6294204322200393}"
      ]
     },
     "execution_count": 24,
     "metadata": {},
     "output_type": "execute_result"
    }
   ],
   "source": [
    "metric_dict_mtcnn_fdet"
   ]
  },
  {
   "cell_type": "code",
   "execution_count": 74,
   "metadata": {},
   "outputs": [
    {
     "data": {
      "image/png": "[encoded data removed]",
      "text/plain": [
       "<Figure size 432x288 with 1 Axes>"
      ]
     },
     "metadata": {
      "needs_background": "light"
     },
     "output_type": "display_data"
    }
   ],
   "source": [
    "# plot\n",
    "precisions = [metric_dict_mtcnn['prec'], metric_dict_mtcnn_fdet['prec']]\n",
    "recalls = [metric_dict_mtcnn['recall'], metric_dict_mtcnn_fdet['recall']]\n",
    "ind = np.arange(2)\n",
    "names = ('mtcnn_tf', 'mtcnn_pytorch')\n",
    "f_scores = []\n",
    "for i in range(len(precisions)):\n",
    "    p = precisions[i]\n",
    "    r = recalls[i]\n",
    "    f_scores.append(2*(p*r)/(p+r))\n",
    "\n",
    "plt.bar(ind, precisions, 0.25, label='Precision')\n",
    "plt.bar(ind+0.25, recalls, 0.25, label='Recall')\n",
    "plt.bar(ind+0.5, f_scores, 0.25, label='F1')\n",
    "\n",
    "plt.ylabel('Score')\n",
    "plt.title('Precision, Recall, and F1 for MTCNN Implementations')\n",
    "plt.xticks(ind + .25/2, tuple(names))\n",
    "plt.legend(loc='lower left')\n",
    "plt.grid()\n",
    "plt.savefig('./figures/mtcnn.png', dpi=300, transparent=True)\n",
    "plt.show()"
   ]
  },
  {
   "cell_type": "code",
   "execution_count": 76,
   "metadata": {},
   "outputs": [],
   "source": [
    "best_precs.append(precisions[1])\n",
    "best_recs.append(recalls[1])\n",
    "best_f.append(f_scores[1])"
   ]
  },
  {
   "cell_type": "markdown",
   "metadata": {},
   "source": [
    "# RetinaFace Analysis"
   ]
  },
  {
   "cell_type": "markdown",
   "metadata": {},
   "source": [
    "## MobileNet"
   ]
  },
  {
   "cell_type": "code",
   "execution_count": 77,
   "metadata": {},
   "outputs": [],
   "source": [
    "thresholds = [70, 75, 80, 85, 90, 95]\n",
    "retina_face_data = {}\n",
    "retina_face_eval = {}\n",
    "\n",
    "for t in thresholds:\n",
    "    with open(f'retinaface_mobilenet_results_{t}.pkl', 'rb') as f:\n",
    "        retina_face_data[t] = pickle.load(f)\n",
    "    evaluator = Evaluator()\n",
    "    retinaface_mobilenet_alt_metrics = evaluator.GetPascalVOCMetrics(retina_face_data[t],\n",
    "                                                IOUThreshold=0.3)\n",
    "    total_pos = retinaface_mobilenet_alt_metrics[0]['total positives']\n",
    "    tp = retinaface_mobilenet_alt_metrics[0]['total TP']\n",
    "    fp = retinaface_mobilenet_alt_metrics[0]['total FP']\n",
    "    metric_dict_retinaface_mobilenet_alt = {\n",
    "        'total positives': total_pos,\n",
    "        'total TP': tp,\n",
    "        'total FP': fp,\n",
    "        'prec': helpers.compute_precision(tp, fp),\n",
    "        'recall': helpers.compute_recall(tp, total_pos)\n",
    "    }\n",
    "    retina_face_eval[t] = metric_dict_retinaface_mobilenet_alt"
   ]
  },
  {
   "cell_type": "code",
   "execution_count": 78,
   "metadata": {},
   "outputs": [
    {
     "data": {
      "image/png": "[encoded data removed]",
      "text/plain": [
       "<Figure size 432x288 with 1 Axes>"
      ]
     },
     "metadata": {
      "needs_background": "light"
     },
     "output_type": "display_data"
    }
   ],
   "source": [
    "# plot\n",
    "result_list = [retina_face_eval[t] for t in thresholds]\n",
    "precisions = [res['prec'] for res in result_list]\n",
    "recalls = [res['recall'] for res in result_list]\n",
    "ind = np.arange(len(result_list))\n",
    "names = [.70, .75, .80, .85, .90, .95]\n",
    "\n",
    "plt.plot(names, precisions, label='Precision')\n",
    "plt.plot(names, recalls, label='Recall')\n",
    "\n",
    "plt.ylabel('Score')\n",
    "plt.xlabel('Threshold')\n",
    "plt.title('Precision and Recall for Different Thresholds, RetinaFace MobileNet')\n",
    "# plt.xticks(ind + .25/2, tuple(short_names))\n",
    "plt.legend(loc='best')\n",
    "plt.grid()\n",
    "plt.savefig('./figures/retinaface_mobilenet_thresh.png', dpi=300, transparent=True)\n",
    "plt.show()"
   ]
  },
  {
   "cell_type": "code",
   "execution_count": 79,
   "metadata": {},
   "outputs": [
    {
     "data": {
      "image/png": "[encoded data removed]",
      "text/plain": [
       "<Figure size 432x288 with 1 Axes>"
      ]
     },
     "metadata": {
      "needs_background": "light"
     },
     "output_type": "display_data"
    }
   ],
   "source": [
    "plt.plot(recalls, precisions)\n",
    "plt.ylabel(\"Precision\")\n",
    "plt.xlabel(\"Recall\")\n",
    "plt.title(\"PR Curve for Thresholds from 0.7 to 0.95\")\n",
    "plt.grid()\n",
    "plt.savefig('./figures/retinaface_mobilenet_pr.png', dpi=300, transparent=True)\n",
    "plt.show()"
   ]
  },
  {
   "cell_type": "code",
   "execution_count": 80,
   "metadata": {},
   "outputs": [
    {
     "data": {
      "text/plain": [
       "{70: {'total positives': 4072,\n",
       "  'total TP': 3382.0,\n",
       "  'total FP': 301.0,\n",
       "  'prec': 0.9182731468911214,\n",
       "  'recall': 0.8305500982318271},\n",
       " 75: {'total positives': 4072,\n",
       "  'total TP': 3341.0,\n",
       "  'total FP': 276.0,\n",
       "  'prec': 0.923693668786287,\n",
       "  'recall': 0.8204813359528488},\n",
       " 80: {'total positives': 4072,\n",
       "  'total TP': 3299.0,\n",
       "  'total FP': 256.0,\n",
       "  'prec': 0.9279887482419128,\n",
       "  'recall': 0.8101669941060904},\n",
       " 85: {'total positives': 4072,\n",
       "  'total TP': 3250.0,\n",
       "  'total FP': 212.0,\n",
       "  'prec': 0.9387637203928365,\n",
       "  'recall': 0.7981335952848723},\n",
       " 90: {'total positives': 4072,\n",
       "  'total TP': 3180.0,\n",
       "  'total FP': 185.0,\n",
       "  'prec': 0.9450222882615156,\n",
       "  'recall': 0.7809430255402751},\n",
       " 95: {'total positives': 4072,\n",
       "  'total TP': 3050.0,\n",
       "  'total FP': 136.0,\n",
       "  'prec': 0.9573132454488387,\n",
       "  'recall': 0.7490176817288802}}"
      ]
     },
     "execution_count": 80,
     "metadata": {},
     "output_type": "execute_result"
    }
   ],
   "source": [
    "retina_face_eval"
   ]
  },
  {
   "cell_type": "code",
   "execution_count": 81,
   "metadata": {},
   "outputs": [],
   "source": [
    "best_mobile_net = retina_face_eval[70]\n",
    "# best bc it has highest recall rate\n",
    "retina_face_compare = {}\n",
    "retina_face_compare['mobilenet'] = best_mobile_net"
   ]
  },
  {
   "cell_type": "code",
   "execution_count": 83,
   "metadata": {},
   "outputs": [],
   "source": [
    "with open('retinaface_resnet50_alt.pkl', 'rb') as f:\n",
    "    retinaface_resnet_res = pickle.load(f)\n",
    "\n",
    "evaluator = Evaluator()\n",
    "retinaface_resnet50_alt_metrics = evaluator.GetPascalVOCMetrics(retinaface_resnet_res,\n",
    "                                            IOUThreshold=0.3)\n",
    "total_pos = retinaface_resnet50_alt_metrics[0]['total positives']\n",
    "tp = retinaface_resnet50_alt_metrics[0]['total TP']\n",
    "fp = retinaface_resnet50_alt_metrics[0]['total FP']\n",
    "metric_dict_retinaface_resnet50_alt = {\n",
    "    'total positives': total_pos,\n",
    "    'total TP': tp,\n",
    "    'total FP': fp,\n",
    "    'prec': helpers.compute_precision(tp, fp),\n",
    "    'recall': helpers.compute_recall(tp, total_pos)\n",
    "}\n",
    "\n",
    "retina_face_compare['resnet'] = metric_dict_retinaface_resnet50_alt"
   ]
  },
  {
   "cell_type": "code",
   "execution_count": 84,
   "metadata": {},
   "outputs": [
    {
     "data": {
      "text/plain": [
       "{'mobilenet': {'total positives': 4072,\n",
       "  'total TP': 3382.0,\n",
       "  'total FP': 301.0,\n",
       "  'prec': 0.9182731468911214,\n",
       "  'recall': 0.8305500982318271},\n",
       " 'resnet': {'total positives': 4072,\n",
       "  'total TP': 3674.0,\n",
       "  'total FP': 619.0,\n",
       "  'prec': 0.8558117866293967,\n",
       "  'recall': 0.9022593320235757}}"
      ]
     },
     "execution_count": 84,
     "metadata": {},
     "output_type": "execute_result"
    }
   ],
   "source": [
    "retina_face_compare"
   ]
  },
  {
   "cell_type": "code",
   "execution_count": 85,
   "metadata": {},
   "outputs": [
    {
     "data": {
      "image/png": "[encoded data removed]",
      "text/plain": [
       "<Figure size 432x288 with 1 Axes>"
      ]
     },
     "metadata": {
      "needs_background": "light"
     },
     "output_type": "display_data"
    }
   ],
   "source": [
    "# plot\n",
    "result_list = [retina_face_compare[n] for n in retina_face_compare.keys()]\n",
    "precisions = [res['prec'] for res in result_list]\n",
    "recalls = [res['recall'] for res in result_list]\n",
    "ind = np.arange(len(result_list))\n",
    "names = list(retina_face_compare.keys())\n",
    "f_scores = []\n",
    "for i in range(len(precisions)):\n",
    "    p = precisions[i]\n",
    "    r = recalls[i]\n",
    "    f_scores.append(2*(p*r)/(p+r))\n",
    "\n",
    "plt.bar(ind, precisions, 0.25, label='Precision')\n",
    "plt.bar(ind+0.25, recalls, 0.25, label='Recall')\n",
    "plt.bar(ind+0.5, f_scores, 0.25, label='F1')\n",
    "\n",
    "plt.ylabel('Score')\n",
    "plt.title('Precision, Recall, and F1 for RetinaFace Implementations')\n",
    "plt.xticks(ind + .25/2, tuple(names))\n",
    "plt.legend(loc='lower left')\n",
    "plt.grid()\n",
    "plt.savefig('./figures/retinaface.png', dpi=300, transparent=True)\n",
    "plt.show()"
   ]
  },
  {
   "cell_type": "code",
   "execution_count": 86,
   "metadata": {},
   "outputs": [],
   "source": [
    "best_precs.append(precisions[0])\n",
    "best_recs.append(recalls[0])\n",
    "best_f.append(f_scores[0])"
   ]
  },
  {
   "cell_type": "markdown",
   "metadata": {},
   "source": [
    "## Final Graph"
   ]
  },
  {
   "cell_type": "code",
   "execution_count": 87,
   "metadata": {},
   "outputs": [
    {
     "data": {
      "image/png": "[encoded data removed]",
      "text/plain": [
       "<Figure size 432x288 with 1 Axes>"
      ]
     },
     "metadata": {
      "needs_background": "light"
     },
     "output_type": "display_data"
    }
   ],
   "source": [
    "# plot\n",
    "ind = np.arange(len(best_f))\n",
    "names = ('Viola-Jones alt2', 'MTCNN PyTorch', 'RetinaFace MobileNet')\n",
    "\n",
    "plt.bar(ind, best_precs, 0.25, label='Precision')\n",
    "plt.bar(ind+0.25, best_recs, 0.25, label='Recall')\n",
    "plt.bar(ind+0.5, best_f, 0.25, label='F1')\n",
    "\n",
    "plt.ylabel('Score')\n",
    "plt.title('Precision, Recall, and F1 Between VJ, MTCNN, and RetinaFace')\n",
    "plt.xticks(ind + .25/2, names)\n",
    "plt.legend(loc='lower left')\n",
    "plt.grid()\n",
    "plt.savefig('./figures/full_compare.png', dpi=300, transparent=True)\n",
    "plt.show()"
   ]
  },
  {
   "cell_type": "markdown",
   "metadata": {},
   "source": [
    "# Classifier Dataset"
   ]
  },
  {
   "cell_type": "code",
   "execution_count": 106,
   "metadata": {},
   "outputs": [
    {
     "data": {
      "image/png": "[encoded data removed]",
      "text/plain": [
       "<Figure size 900x600 with 3 Axes>"
      ]
     },
     "metadata": {},
     "output_type": "display_data"
    }
   ],
   "source": [
    "import matplotlib as mpl\n",
    "mpl.rcParams['font.size'] = 7.0\n",
    "\n",
    "import matplotlib.gridspec as gridspec\n",
    "gs = gridspec.GridSpec(2, 4)\n",
    "gs.update(wspace = 0.5)\n",
    "\n",
    "ax1 = plt.subplot(gs[0, :2])\n",
    "ax2 = plt.subplot(gs[0, 2:])\n",
    "ax3 = plt.subplot(gs[1, 1:3])\n",
    "\n",
    "train = [5000, 5000]\n",
    "validate = [400, 400]\n",
    "test = [483, 509]\n",
    "\n",
    "labels = ['masked', 'unmasked']\n",
    "\n",
    "# plt.subplot(2, 2, 1)\n",
    "# plt.title('Test')\n",
    "# plt.pie(train, labels=labels, autopct='%1.1f%%', startangle=90)\n",
    "ax1.pie(train, labels=labels, autopct='%1.1f%%', startangle=90)\n",
    "ax1.set_title('Training Set Composition (10k images)')\n",
    "\n",
    "# plt.subplot(2, 2, 2)\n",
    "# plt.pie(validate, labels=labels, autopct='%1.1f%%', startangle=90)\n",
    "ax2.pie(validate, labels=labels, autopct='%1.1f%%', startangle=90)\n",
    "ax2.set_title('Validation Set Composition (800 images)')\n",
    "\n",
    "# plt.subplot(2, 2, 3)\n",
    "# plt.pie(test, labels=labels, autopct='%1.1f%%', startangle=90)\n",
    "ax3.pie(test, labels=labels, autopct='%1.1f%%', startangle=90)\n",
    "ax3.set_title('Test Set Composition (992 images)')\n",
    "\n",
    "plt.gcf().set_dpi(150)\n",
    "plt.savefig('./figures/classifier_dataset.png', dpi=300, transparent=True)"
   ]
  },
  {
   "cell_type": "code",
   "execution_count": null,
   "metadata": {},
   "outputs": [],
   "source": []
  }
 ],
 "metadata": {
  "kernelspec": {
   "display_name": "Python 3.7.0 64-bit ('mask': conda)",
   "language": "python",
   "name": "python37064bitmaskconda2c41a7a744874836908529137dcd6bb3"
  },
  "language_info": {
   "codemirror_mode": {
    "name": "ipython",
    "version": 3
   },
   "file_extension": ".py",
   "mimetype": "text/x-python",
   "name": "python",
   "nbconvert_exporter": "python",
   "pygments_lexer": "ipython3",
   "version": "3.7.0"
  }
 },
 "nbformat": 4,
 "nbformat_minor": 4
}
