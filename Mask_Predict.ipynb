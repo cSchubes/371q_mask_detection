{
 "cells": [
  {
   "cell_type": "code",
   "execution_count": 13,
   "metadata": {},
   "outputs": [],
   "source": [
    "import os\n",
    "import glob\n",
    "import cv2\n",
    "import tensorflow as tf\n",
    "\n",
    "try:\n",
    "    tf.config.set_visible_devices([], 'GPU')\n",
    "    visible_devices = tf.config.get_visible_devices()\n",
    "    for device in visible_devices:\n",
    "        assert device.device_type != 'GPU'\n",
    "except (AssertionError, ValueError, RuntimeError):\n",
    "    raise RuntimeError('Unable to disable GPU')\n",
    "\n",
    "    \n",
    "import matplotlib.pyplot as plt\n",
    "import glob\n",
    "import numpy as np\n",
    "import random\n",
    "\n",
    "from PIL import Image"
   ]
  },
  {
   "cell_type": "code",
   "execution_count": 14,
   "metadata": {},
   "outputs": [],
   "source": [
    "dim = 64\n",
    "\n",
    "def read_img(file):\n",
    "    img = tf.io.read_file(file)\n",
    "    img = tf.image.decode_image(img, channels=3)\n",
    "    img = tf.image.resize(img, [dim, dim])\n",
    "    img = img/127.5-1\n",
    "    return img"
   ]
  },
  {
   "cell_type": "code",
   "execution_count": 15,
   "metadata": {},
   "outputs": [],
   "source": [
    "def conv_model(num_blocks, rate, dim):\n",
    "    \n",
    "    input = tf.keras.layers.Input(shape=(dim,dim,3))\n",
    "    \n",
    "    x = tf.keras.layers.Conv2D(16, (16,16), strides=1)(input)\n",
    "    x = tf.keras.layers.Dropout(rate)(x)\n",
    "    x = tf.keras.layers.BatchNormalization()(x)\n",
    "    x = tf.keras.layers.Activation('relu')(x)\n",
    "        \n",
    "    for i in range(num_blocks-1):\n",
    "        x = tf.keras.layers.Conv2D(8, (8,8), strides=1)(x)\n",
    "        x = tf.keras.layers.Dropout(rate)(x)\n",
    "        x = tf.keras.layers.BatchNormalization()(x)\n",
    "        x = tf.keras.layers.Activation('relu')(x)\n",
    "        \n",
    "    x = tf.keras.layers.Conv2D(filters=2, kernel_size=1, strides=1)(x)\n",
    "    x = tf.keras.layers.Dropout(rate)(x)\n",
    "    x = tf.keras.layers.BatchNormalization()(x)\n",
    "    x = tf.keras.layers.GlobalMaxPooling2D()(x)\n",
    "    predictions = tf.keras.layers.Activation('softmax')(x)\n",
    "    \n",
    "    model = tf.keras.Model(inputs=input, outputs=predictions)\n",
    "    print(model.summary())\n",
    "    \n",
    "    return model\n"
   ]
  },
  {
   "cell_type": "code",
   "execution_count": 16,
   "metadata": {
    "scrolled": true
   },
   "outputs": [
    {
     "name": "stdout",
     "output_type": "stream",
     "text": [
      "Model: \"model_4\"\n",
      "_________________________________________________________________\n",
      "Layer (type)                 Output Shape              Param #   \n",
      "=================================================================\n",
      "input_5 (InputLayer)         [(None, 64, 64, 3)]       0         \n",
      "_________________________________________________________________\n",
      "conv2d_16 (Conv2D)           (None, 49, 49, 16)        12304     \n",
      "_________________________________________________________________\n",
      "dropout_16 (Dropout)         (None, 49, 49, 16)        0         \n",
      "_________________________________________________________________\n",
      "batch_normalization_16 (Batc (None, 49, 49, 16)        64        \n",
      "_________________________________________________________________\n",
      "activation_16 (Activation)   (None, 49, 49, 16)        0         \n",
      "_________________________________________________________________\n",
      "conv2d_17 (Conv2D)           (None, 42, 42, 8)         8200      \n",
      "_________________________________________________________________\n",
      "dropout_17 (Dropout)         (None, 42, 42, 8)         0         \n",
      "_________________________________________________________________\n",
      "batch_normalization_17 (Batc (None, 42, 42, 8)         32        \n",
      "_________________________________________________________________\n",
      "activation_17 (Activation)   (None, 42, 42, 8)         0         \n",
      "_________________________________________________________________\n",
      "conv2d_18 (Conv2D)           (None, 35, 35, 8)         4104      \n",
      "_________________________________________________________________\n",
      "dropout_18 (Dropout)         (None, 35, 35, 8)         0         \n",
      "_________________________________________________________________\n",
      "batch_normalization_18 (Batc (None, 35, 35, 8)         32        \n",
      "_________________________________________________________________\n",
      "activation_18 (Activation)   (None, 35, 35, 8)         0         \n",
      "_________________________________________________________________\n",
      "conv2d_19 (Conv2D)           (None, 35, 35, 2)         18        \n",
      "_________________________________________________________________\n",
      "dropout_19 (Dropout)         (None, 35, 35, 2)         0         \n",
      "_________________________________________________________________\n",
      "batch_normalization_19 (Batc (None, 35, 35, 2)         8         \n",
      "_________________________________________________________________\n",
      "global_max_pooling2d_4 (Glob (None, 2)                 0         \n",
      "_________________________________________________________________\n",
      "activation_19 (Activation)   (None, 2)                 0         \n",
      "=================================================================\n",
      "Total params: 24,762\n",
      "Trainable params: 24,694\n",
      "Non-trainable params: 68\n",
      "_________________________________________________________________\n",
      "None\n"
     ]
    }
   ],
   "source": [
    "num_blocks = 3\n",
    "dropout = .1\n",
    "model = conv_model(num_blocks,.1, dim)\n",
    "model.load_weights('mask_classification_model_3_50.h5')\n",
    "model.compile(optimizer=tf.keras.optimizers.Adam(1e-4),\n",
    "              loss='sparse_categorical_crossentropy',\n",
    "              metrics=['accuracy'])\n"
   ]
  },
  {
   "cell_type": "code",
   "execution_count": 48,
   "metadata": {},
   "outputs": [
    {
     "name": "stdout",
     "output_type": "stream",
     "text": [
      "Mask Val: 0.6764245629310608, Non-mask Val: 0.3235754668712616\n",
      "Image predicted as [0]\n",
      "Mask Val: 0.0091919656842947, Non-mask Val: 0.9908080697059631\n",
      "Image predicted as [1]\n",
      "Mask Val: 0.9904122948646545, Non-mask Val: 0.009587661363184452\n",
      "Image predicted as [0]\n",
      "Mask Val: 0.10526204109191895, Non-mask Val: 0.8947380185127258\n",
      "Image predicted as [1]\n"
     ]
    }
   ],
   "source": [
    "def pred(img_path):\n",
    "    im = read_img(img_path)\n",
    "    vals = model.predict(np.expand_dims(im,axis=0))\n",
    "    print(f\"Mask Val: {vals[0][0]}, Non-mask Val: {vals[0][1]}\")\n",
    "    pred = np.argmax(vals,axis=1)\n",
    "    print(f\"Image predicted as {pred}\")\n",
    "\n",
    "pred('random_tests/biden.png')\n",
    "pred('random_tests/trump.png')\n",
    "pred('random_tests/hard.png')\n",
    "pred('random_tests/face_face.png')\n",
    "\n"
   ]
  },
  {
   "cell_type": "code",
   "execution_count": 45,
   "metadata": {},
   "outputs": [
    {
     "name": "stderr",
     "output_type": "stream",
     "text": [
      "Clipping input data to the valid range for imshow with RGB data ([0..1] for floats or [0..255] for integers).\n"
     ]
    },
    {
     "data": {
      "text/plain": [
       "<matplotlib.image.AxesImage at 0x186d075e3c8>"
      ]
     },
     "execution_count": 45,
     "metadata": {},
     "output_type": "execute_result"
    },
    {
     "data": {
      "image/png": "[encoded data removed]",
      "text/plain": [
       "<Figure size 432x288 with 1 Axes>"
      ]
     },
     "metadata": {
      "needs_background": "light"
     },
     "output_type": "display_data"
    }
   ],
   "source": []
  },
  {
   "cell_type": "code",
   "execution_count": null,
   "metadata": {},
   "outputs": [],
   "source": []
  }
 ],
 "metadata": {
  "kernelspec": {
   "display_name": "Python 3",
   "language": "python",
   "name": "python3"
  },
  "language_info": {
   "codemirror_mode": {
    "name": "ipython",
    "version": 3
   },
   "file_extension": ".py",
   "mimetype": "text/x-python",
   "name": "python",
   "nbconvert_exporter": "python",
   "pygments_lexer": "ipython3",
   "version": "3.7.3"
  }
 },
 "nbformat": 4,
 "nbformat_minor": 2
}
